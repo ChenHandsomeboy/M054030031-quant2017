{
 "cells": [
  {
   "cell_type": "markdown",
   "metadata": {},
   "source": [
    "# Q1. 寫一個函式，抓取 Google Finance 的股價歷史資料"
   ]
  },
  {
   "cell_type": "code",
   "execution_count": 1,
   "metadata": {
    "collapsed": false
   },
   "outputs": [
    {
     "name": "stdout",
     "output_type": "stream",
     "text": [
      "          Date    Open    High     Low   Close     Volume\n",
      "0     1-Dec-17  169.95  171.67  168.50  171.05   39759288\n",
      "1    30-Nov-17  170.43  172.14  168.44  171.85   41527218\n",
      "2    29-Nov-17  172.63  172.92  167.16  169.48   41666364\n",
      "3    28-Nov-17  174.30  174.87  171.86  173.07   26428802\n",
      "4    27-Nov-17  175.05  175.08  173.34  174.09   20716802\n",
      "5    24-Nov-17  175.10  175.50  174.65  174.97   14026673\n",
      "6    22-Nov-17  173.36  175.00  173.05  174.96   25588925\n",
      "7    21-Nov-17  170.78  173.70  170.78  173.14   25131295\n",
      "8    20-Nov-17  170.29  170.56  169.56  169.98   16262447\n",
      "9    17-Nov-17  171.04  171.39  169.64  170.15   21899544\n",
      "10   16-Nov-17  171.18  171.87  170.30  171.10   23637484\n",
      "11   15-Nov-17  169.97  170.32  168.38  169.08   29158070\n",
      "12   14-Nov-17  173.04  173.48  171.18  171.34   24782487\n",
      "13   13-Nov-17  173.50  174.50  173.40  173.97   16982080\n",
      "14   10-Nov-17  175.11  175.38  174.27  174.67   25145500\n",
      "15    9-Nov-17  175.11  176.10  173.14  175.88   29482596\n",
      "16    8-Nov-17  174.66  176.24  174.33  176.24   24409527\n",
      "17    7-Nov-17  173.91  175.25  173.60  174.81   24361485\n",
      "18    6-Nov-17  172.36  174.99  171.72  174.25   35026306\n",
      "19    3-Nov-17  174.00  174.26  171.12  172.50   59398631\n",
      "20    2-Nov-17  166.60  168.50  165.28  168.11   41393373\n",
      "21    1-Nov-17  169.87  169.94  165.61  166.89   33637762\n",
      "22   31-Oct-17  167.90  169.65  166.94  169.04   36046828\n",
      "23   30-Oct-17  163.89  168.07  163.72  166.72   44700772\n",
      "24   27-Oct-17  159.29  163.60  158.70  163.05   44454160\n",
      "25   26-Oct-17  157.23  157.83  156.78  157.41   17000469\n",
      "26   25-Oct-17  156.91  157.55  155.27  156.41   21207098\n",
      "27   24-Oct-17  156.29  157.42  156.20  157.10   17757230\n",
      "28   23-Oct-17  156.89  157.69  155.50  156.17   21984327\n",
      "29   20-Oct-17  156.61  157.75  155.96  156.25   23974146\n",
      "..         ...     ...     ...     ...     ...        ...\n",
      "454  16-Feb-16   95.02   96.85   94.61   96.64   47490678\n",
      "455  12-Feb-16   94.19   94.50   93.01   93.99   40121670\n",
      "456  11-Feb-16   93.79   94.72   92.59   93.70   49686210\n",
      "457  10-Feb-16   95.92   96.35   94.10   94.27   42244975\n",
      "458   9-Feb-16   94.29   95.94   93.93   94.99   44262912\n",
      "459   8-Feb-16   93.13   95.70   93.04   95.01   53852284\n",
      "460   5-Feb-16   96.52   96.92   93.69   94.02   45853883\n",
      "461   4-Feb-16   95.86   97.33   95.19   96.60   46263907\n",
      "462   3-Feb-16   95.00   96.84   94.08   96.35   45366710\n",
      "463   2-Feb-16   95.42   96.04   94.28   94.48   37081206\n",
      "464   1-Feb-16   96.47   96.71   95.40   96.43   40571593\n",
      "465  29-Jan-16   94.79   97.34   94.35   97.34   64010141\n",
      "466  28-Jan-16   93.79   94.52   92.39   94.09   55557109\n",
      "467  27-Jan-16   96.04   96.63   93.34   93.42  132224500\n",
      "468  26-Jan-16   99.93  100.88   98.07   99.99   63538305\n",
      "469  25-Jan-16  101.52  101.53   99.21   99.44   51196375\n",
      "470  22-Jan-16   98.63  101.46   98.37  101.42   65562769\n",
      "471  21-Jan-16   97.06   97.88   94.94   96.30   52054521\n",
      "472  20-Jan-16   95.10   98.19   93.42   96.79   72008265\n",
      "473  19-Jan-16   98.41   98.65   95.50   96.66   52841349\n",
      "474  15-Jan-16   96.20   97.71   95.36   97.13   79010008\n",
      "475  14-Jan-16   97.96  100.48   95.74   99.52   62424154\n",
      "476  13-Jan-16  100.32  101.19   97.30   97.39   61745031\n",
      "477  12-Jan-16  100.55  100.69   98.84   99.96   49154227\n",
      "478  11-Jan-16   98.97   99.06   97.34   98.53   49739377\n",
      "479   8-Jan-16   98.55   99.11   96.76   96.96   70798016\n",
      "480   7-Jan-16   98.68  100.13   96.43   96.45   81094428\n",
      "481   6-Jan-16  100.56  102.37   99.87  100.70   68457388\n",
      "482   5-Jan-16  105.75  105.85  102.41  102.71   55790992\n",
      "483   4-Jan-16  102.61  105.37  102.00  105.35   67281190\n",
      "\n",
      "[484 rows x 6 columns]\n"
     ]
    }
   ],
   "source": [
    "import requests\n",
    "import pandas as pd\n",
    "def get_price(stock,startdate):\n",
    "    params = {}\n",
    "    params['q'] = stock\n",
    "    params['startdate'] = startdate\n",
    "    url = \"https://finance.google.com/finance/historical?q={q}&startdate={startdate}&output=csv\".format(**params)\n",
    "    stockprice=pd.read_csv(url)\n",
    "    print(stockprice)\n",
    "\n",
    "get_price('AAPL',\"2016-01-01\")"
   ]
  },
  {
   "cell_type": "markdown",
   "metadata": {},
   "source": [
    "# Q2. 抓取台股歷史資料，並繪製價量圖形。"
   ]
  },
  {
   "cell_type": "code",
   "execution_count": 2,
   "metadata": {
    "collapsed": true
   },
   "outputs": [],
   "source": [
    "import requests\n",
    "from bs4 import BeautifulSoup as bs\n",
    "import pandas as pd\n",
    "res=requests.get(\"https://finance.yahoo.com/quote/2330.TW/history?period1=1483200000&period2=1512230400&interval=1d&filter=history&frequency=1d\")"
   ]
  },
  {
   "cell_type": "code",
   "execution_count": 3,
   "metadata": {
    "collapsed": false
   },
   "outputs": [],
   "source": [
    "soup = bs(res.text,\"lxml\")\n",
    "tb = soup.find_all(\"table\",{\"class\":\"W(100%) M(0)\"})[0]\n",
    "dfs = pd.read_html(tb.prettify('utf-8'), encoding='utf-8')"
   ]
  },
  {
   "cell_type": "code",
   "execution_count": 4,
   "metadata": {
    "collapsed": false
   },
   "outputs": [
    {
     "data": {
      "text/html": [
       "<div>\n",
       "<table border=\"1\" class=\"dataframe\">\n",
       "  <thead>\n",
       "    <tr style=\"text-align: right;\">\n",
       "      <th></th>\n",
       "      <th>Date</th>\n",
       "      <th>Open</th>\n",
       "      <th>High</th>\n",
       "      <th>Low</th>\n",
       "      <th>Close*</th>\n",
       "      <th>Adj Close**</th>\n",
       "      <th>Volume</th>\n",
       "    </tr>\n",
       "  </thead>\n",
       "  <tbody>\n",
       "    <tr>\n",
       "      <th>95</th>\n",
       "      <td>Jul 18, 2017</td>\n",
       "      <td>213.0</td>\n",
       "      <td>214.0</td>\n",
       "      <td>212.0</td>\n",
       "      <td>214.0</td>\n",
       "      <td>214.0</td>\n",
       "      <td>18613000.0</td>\n",
       "    </tr>\n",
       "    <tr>\n",
       "      <th>96</th>\n",
       "      <td>Jul 17, 2017</td>\n",
       "      <td>215.0</td>\n",
       "      <td>215.5</td>\n",
       "      <td>211.5</td>\n",
       "      <td>213.0</td>\n",
       "      <td>213.0</td>\n",
       "      <td>21372000.0</td>\n",
       "    </tr>\n",
       "    <tr>\n",
       "      <th>97</th>\n",
       "      <td>Jul 14, 2017</td>\n",
       "      <td>213.0</td>\n",
       "      <td>214.5</td>\n",
       "      <td>212.0</td>\n",
       "      <td>213.0</td>\n",
       "      <td>213.0</td>\n",
       "      <td>22335000.0</td>\n",
       "    </tr>\n",
       "    <tr>\n",
       "      <th>98</th>\n",
       "      <td>Jul 13, 2017</td>\n",
       "      <td>212.0</td>\n",
       "      <td>216.0</td>\n",
       "      <td>211.5</td>\n",
       "      <td>214.5</td>\n",
       "      <td>214.5</td>\n",
       "      <td>50090000.0</td>\n",
       "    </tr>\n",
       "    <tr>\n",
       "      <th>99</th>\n",
       "      <td>Jul 12, 2017</td>\n",
       "      <td>211.0</td>\n",
       "      <td>212.5</td>\n",
       "      <td>210.5</td>\n",
       "      <td>210.5</td>\n",
       "      <td>210.5</td>\n",
       "      <td>26426000.0</td>\n",
       "    </tr>\n",
       "  </tbody>\n",
       "</table>\n",
       "</div>"
      ],
      "text/plain": [
       "            Date   Open   High    Low  Close*  Adj Close**      Volume\n",
       "95  Jul 18, 2017  213.0  214.0  212.0   214.0        214.0  18613000.0\n",
       "96  Jul 17, 2017  215.0  215.5  211.5   213.0        213.0  21372000.0\n",
       "97  Jul 14, 2017  213.0  214.5  212.0   213.0        213.0  22335000.0\n",
       "98  Jul 13, 2017  212.0  216.0  211.5   214.5        214.5  50090000.0\n",
       "99  Jul 12, 2017  211.0  212.5  210.5   210.5        210.5  26426000.0"
      ]
     },
     "execution_count": 4,
     "metadata": {},
     "output_type": "execute_result"
    }
   ],
   "source": [
    "#刪除最後一行(有文字)\n",
    "df=dfs[0].drop(100)\n",
    "df.tail() "
   ]
  },
  {
   "cell_type": "code",
   "execution_count": 5,
   "metadata": {
    "collapsed": false
   },
   "outputs": [
    {
     "data": {
      "image/png": "[encoded data removed]",
      "text/plain": [
       "<matplotlib.figure.Figure at 0x1d884b149b0>"
      ]
     },
     "metadata": {},
     "output_type": "display_data"
    }
   ],
   "source": [
    "import pandas as pd\n",
    "import numpy as np\n",
    "import matplotlib\n",
    "import matplotlib.pyplot as plt\n",
    "#from matplotlib.finance import candlestick_ohlc\n",
    "from mpl_finance import candlestick_ohlc\n",
    "#from matplotlib.finance import volume_overlay3\n",
    "from mpl_finance import volume_overlay3\n",
    "from matplotlib.dates import num2date\n",
    "from matplotlib.dates import date2num\n",
    "import matplotlib.dates as mdates\n",
    "import matplotlib.mlab as mlab\n",
    "import datetime\n",
    "\n",
    "#if necessary convert to datetime\n",
    "df.Date = pd.to_datetime(df.Date)\n",
    "\n",
    "df = df[['Date', 'Open', 'High', 'Low', 'Close*', 'Volume']]\n",
    "df[\"Date\"] = df[\"Date\"].apply(mdates.date2num)\n",
    "\n",
    "fig = plt.figure()\n",
    "ax = fig.add_subplot(1,1,1)\n",
    "\n",
    "ax.set_ylabel('Price', size=20)\n",
    "candlestick_ohlc(ax, df.values, colorup='r', colordown='g')\n",
    "\n",
    "# shift y-limits of the candlestick plot so that there is space at the bottom for the volume bar chart\n",
    "pad = 0.25\n",
    "yl = ax.get_ylim()\n",
    "ax.set_ylim(yl[0]-(yl[1]-yl[0])*pad,yl[1])\n",
    "\n",
    "# create the second axis for the volume bar-plot\n",
    "ax2 = ax.twinx()\n",
    "\n",
    "\n",
    "# set the position of ax2 so that it is short (y2=0.32) but otherwise the same size as ax\n",
    "ax2.set_position(matplotlib.transforms.Bbox([[0.125,0.1],[0.9,0.32]]))\n",
    "\n",
    "# get data from candlesticks for a bar plot\n",
    "dates = [x[0] for x in df.values]\n",
    "dates = np.asarray(dates)\n",
    "volume = [x[5] for x in df.values]\n",
    "volume = np.asarray(volume)\n",
    "# make bar plots and color differently depending on up/down for the day\n",
    "pos = np.array((df['Open']-df['Close*'])<0)\n",
    "neg = np.array((df['Open']-df['Close*'])>0)\n",
    "ax2.bar(dates[pos],volume[pos],color='red',width=1,align='center')\n",
    "ax2.bar(dates[neg],volume[neg],color='green',width=1,align='center')\n",
    "\n",
    "#scale the x-axis tight\n",
    "ax2.set_xlim(min(dates),max(dates))\n",
    "# the y-ticks for the bar were too dense, keep only every third one\n",
    "ax2.get_yticks()\n",
    "#yticks = ax2.get_yticks()\n",
    "#ax2.set_yticks(yticks[::3])\n",
    "\n",
    "\n",
    "ax2.yaxis.set_label_position(\"right\")\n",
    "ax2.set_ylabel('Volume', size=20)\n",
    "\n",
    "# format the x-ticks with a human-readable date. \n",
    "xt = ax.get_xticks()\n",
    "new_xticks = [datetime.date.isoformat(num2date(d)) for d in xt]\n",
    "ax.set_xticklabels(new_xticks,rotation=45, horizontalalignment='right')\n",
    "\n",
    "plt.ion()\n",
    "plt.show()"
   ]
  }
 ],
 "metadata": {
  "kernelspec": {
   "display_name": "Python 3",
   "language": "python",
   "name": "python3"
  },
  "language_info": {
   "codemirror_mode": {
    "name": "ipython",
    "version": 3
   },
   "file_extension": ".py",
   "mimetype": "text/x-python",
   "name": "python",
   "nbconvert_exporter": "python",
   "pygments_lexer": "ipython3",
   "version": "3.6.0"
  }
 },
 "nbformat": 4,
 "nbformat_minor": 2
}
