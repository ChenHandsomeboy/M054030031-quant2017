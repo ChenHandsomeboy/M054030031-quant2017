{
 "cells": [
  {
   "cell_type": "code",
   "execution_count": 1,
   "metadata": {
    "collapsed": false
   },
   "outputs": [
    {
     "name": "stdout",
     "output_type": "stream",
     "text": [
      "Hello world!\n",
      "This Alice's greet.\n",
      "This Alice's greet.\n",
      "5 + 10 = 15\n",
      "foo\n",
      "==========\n",
      "Current working directory is C:\\Users\\user\\Documents\\Python程式交易\n",
      "i like apples\n",
      "i like oranges\n",
      "i like cats\n",
      "count to 10\n",
      "0\n",
      "1\n",
      "2\n",
      "3\n",
      "4\n",
      "5\n",
      "6\n",
      "7\n",
      "8\n",
      "9\n"
     ]
    }
   ],
   "source": [
    "import os #載入模組\n",
    "\n",
    "def main(): #定義main() \n",
    "    print('Hello world!')\n",
    "    print(\"This Alice's greet.\")\n",
    "    print('This Alice\\'s greet.') #利用跳脫字元避免重複使用''\n",
    "    \n",
    "    foo(5, 10) #呼叫foo funtion\n",
    "\n",
    "    print('=' * 10) #字串可乘\n",
    "    print('Current working directory is ' + os.getcwd()) #引用os模組取得目前路徑\n",
    "\n",
    "    counter = 0  #變數必須在前面\n",
    "    counter += 1 #等同於 counter=counter+1\n",
    "    food = ['apples', 'oranges', 'cats']\n",
    "    for i in food: #透過迴圈印出i like list中的東西\n",
    "        print('i like ' + i)\n",
    "\n",
    "    print('count to 10')\n",
    "    for i in range(10): #range(10) 為0~9\n",
    "        print(i)\n",
    "\n",
    "def foo(param1, secondParam):\n",
    "    res = param1+secondParam #res為param1與secondParam相加\n",
    "    print('%s + %s = %s' %(param1,secondParam,res))#印出param1與secondParam與res \n",
    "    if res < 50: #根據res不同印出不同東西\n",
    "        print('foo')\n",
    "    elif (res>=50) and ((param1==42) or (secondParam==24)):\n",
    "        print('bar')\n",
    "    else:\n",
    "        print('moo')\n",
    "    return res\n",
    "#若被引用為模組則為__name__，執行本檔案則為__main__    \n",
    "if __name__=='__main__':\n",
    "    main()\n",
    "    "
   ]
  }
 ],
 "metadata": {
  "kernelspec": {
   "display_name": "Python 3",
   "language": "python",
   "name": "python3"
  },
  "language_info": {
   "codemirror_mode": {
    "name": "ipython",
    "version": 3
   },
   "file_extension": ".py",
   "mimetype": "text/x-python",
   "name": "python",
   "nbconvert_exporter": "python",
   "pygments_lexer": "ipython3",
   "version": "3.6.0"
  }
 },
 "nbformat": 4,
 "nbformat_minor": 2
}
