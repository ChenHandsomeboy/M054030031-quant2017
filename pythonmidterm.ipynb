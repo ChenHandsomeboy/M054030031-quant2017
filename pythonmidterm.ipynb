{
 "cells": [
  {
   "cell_type": "markdown",
   "metadata": {},
   "source": [
    "# Q1. 畫出 diamond shape"
   ]
  },
  {
   "cell_type": "code",
   "execution_count": 1,
   "metadata": {
    "collapsed": false
   },
   "outputs": [
    {
     "name": "stdout",
     "output_type": "stream",
     "text": [
      "         *\n",
      "        ***\n",
      "       *****\n",
      "      *******\n",
      "     *********\n",
      "    ***********\n",
      "   *************\n",
      "  ***************\n",
      " *****************\n",
      "*******************\n",
      " *****************\n",
      "  ***************\n",
      "   *************\n",
      "    ***********\n",
      "     *********\n",
      "      *******\n",
      "       *****\n",
      "        ***\n",
      "         *\n",
      "          \n"
     ]
    }
   ],
   "source": [
    "def diamond(n):\n",
    "    for i in range(1,n+1):\n",
    "        s=\" \"*(n-i)+\"*\"*(2*i-1)\n",
    "        print(s)\n",
    "    for j in range(1,n+1):\n",
    "        s=\" \"*j+\"*\"*(2*n-2*j-1)\n",
    "        print(s)\n",
    "diamond(10)"
   ]
  },
  {
   "cell_type": "markdown",
   "metadata": {},
   "source": [
    "# Q2. 刪除重複性的資料"
   ]
  },
  {
   "cell_type": "code",
   "execution_count": 2,
   "metadata": {
    "collapsed": false
   },
   "outputs": [
    {
     "data": {
      "text/plain": [
       "722"
      ]
     },
     "execution_count": 2,
     "metadata": {},
     "output_type": "execute_result"
    }
   ],
   "source": [
    "# 讀取檔案：\n",
    "f = open('symbols01.txt', 'r')\n",
    "file1=f.readlines()\n",
    "f.close()\n",
    "f = open('symbols02.txt', 'r')\n",
    "file2=f.readlines()\n",
    "file=file1+file2\n",
    "len(file)"
   ]
  },
  {
   "cell_type": "code",
   "execution_count": 3,
   "metadata": {
    "collapsed": false
   },
   "outputs": [
    {
     "data": {
      "text/plain": [
       "628"
      ]
     },
     "execution_count": 3,
     "metadata": {},
     "output_type": "execute_result"
    }
   ],
   "source": [
    "#將list轉成字串並確認\n",
    "file=set(file)\n",
    "file=list(file)\n",
    "str_convert=''.join(file)\n",
    "len(file)"
   ]
  },
  {
   "cell_type": "code",
   "execution_count": 4,
   "metadata": {
    "collapsed": false
   },
   "outputs": [],
   "source": [
    "#匯出檔案\n",
    "f = open('symbols03.txt', 'w')\n",
    "f.write(str_convert)\n",
    "f.close()"
   ]
  },
  {
   "cell_type": "markdown",
   "metadata": {},
   "source": [
    "# Q3. 下載台灣上市公司基本資料"
   ]
  },
  {
   "cell_type": "code",
   "execution_count": 5,
   "metadata": {
    "collapsed": false
   },
   "outputs": [],
   "source": [
    "import requests\n",
    "r = requests.get(\"http://dts.twse.com.tw/opendata/t187ap03_L.csv\")\n",
    "r.encoding=\"BIG5\"\n",
    "data = r.text.split(\"\\r\\n\")"
   ]
  },
  {
   "cell_type": "code",
   "execution_count": 6,
   "metadata": {
    "collapsed": false
   },
   "outputs": [
    {
     "data": {
      "text/html": [
       "<div>\n",
       "<style scoped>\n",
       "    .dataframe tbody tr th:only-of-type {\n",
       "        vertical-align: middle;\n",
       "    }\n",
       "\n",
       "    .dataframe tbody tr th {\n",
       "        vertical-align: top;\n",
       "    }\n",
       "\n",
       "    .dataframe thead th {\n",
       "        text-align: right;\n",
       "    }\n",
       "</style>\n",
       "<table border=\"1\" class=\"dataframe\">\n",
       "  <thead>\n",
       "    <tr style=\"text-align: right;\">\n",
       "      <th></th>\n",
       "      <th>公司代號</th>\n",
       "      <th>公司名稱</th>\n",
       "      <th>產業別</th>\n",
       "      <th>住址</th>\n",
       "      <th>營利事業統一編號</th>\n",
       "      <th>董事長</th>\n",
       "      <th>總經理</th>\n",
       "      <th>發言人</th>\n",
       "      <th>發言人職稱</th>\n",
       "      <th>代理發言人</th>\n",
       "      <th>...</th>\n",
       "      <th>特別股</th>\n",
       "      <th>編制財務報表類型</th>\n",
       "      <th>股票過戶機構</th>\n",
       "      <th>過戶電話</th>\n",
       "      <th>過戶地址</th>\n",
       "      <th>英文簡稱</th>\n",
       "      <th>英文通訊地址</th>\n",
       "      <th>傳真機號碼</th>\n",
       "      <th>電子郵件信箱</th>\n",
       "      <th>網址</th>\n",
       "    </tr>\n",
       "  </thead>\n",
       "  <tbody>\n",
       "    <tr>\n",
       "      <th>1101</th>\n",
       "      <td>台灣水泥股份有限公司</td>\n",
       "      <td>水泥工業</td>\n",
       "      <td>台北市中山北路2段113號</td>\n",
       "      <td>11913502.0</td>\n",
       "      <td>張安平</td>\n",
       "      <td>李鐘培</td>\n",
       "      <td>黃健強</td>\n",
       "      <td>資深副總經理</td>\n",
       "      <td>蔡立文</td>\n",
       "      <td>(02)2531-7099</td>\n",
       "      <td>...</td>\n",
       "      <td>1.0</td>\n",
       "      <td>中國信託商業銀行代理部</td>\n",
       "      <td>66365566</td>\n",
       "      <td>台北市重慶南路一段83號5樓</td>\n",
       "      <td>TCC</td>\n",
       "      <td>No.113, Sec.2, Zhongshan N. Rd.,Taipei City 10...</td>\n",
       "      <td>(02)2531-6529</td>\n",
       "      <td>finance@taiwancement.com</td>\n",
       "      <td>http://www.taiwancement.com</td>\n",
       "      <td>NaN</td>\n",
       "    </tr>\n",
       "    <tr>\n",
       "      <th>1102</th>\n",
       "      <td>亞洲水泥股份有限公司</td>\n",
       "      <td>水泥工業</td>\n",
       "      <td>台北市大安區敦化南路2段207號30、31樓</td>\n",
       "      <td>3244509.0</td>\n",
       "      <td>徐旭東</td>\n",
       "      <td>李坤炎</td>\n",
       "      <td>周維崑</td>\n",
       "      <td>副總經理</td>\n",
       "      <td>吳玲綾</td>\n",
       "      <td>02-2733-8000</td>\n",
       "      <td>...</td>\n",
       "      <td>1.0</td>\n",
       "      <td>亞東證券股份有限公司</td>\n",
       "      <td>02-2361-8608</td>\n",
       "      <td>台北市重慶南路一段86號3樓</td>\n",
       "      <td>ACC</td>\n",
       "      <td>30TH FLOOR,TAIPEI METRO TOWER,207.TUN HWA SOUT...</td>\n",
       "      <td>02-2378-5191</td>\n",
       "      <td>service@acc.com.tw</td>\n",
       "      <td>www.acc.com.tw</td>\n",
       "      <td>NaN</td>\n",
       "    </tr>\n",
       "    <tr>\n",
       "      <th>1103</th>\n",
       "      <td>嘉新水泥股份有限公司</td>\n",
       "      <td>水泥工業</td>\n",
       "      <td>台北市中山北路2段96號</td>\n",
       "      <td>11892801.0</td>\n",
       "      <td>張剛綸</td>\n",
       "      <td>祁士鉅</td>\n",
       "      <td>王立心</td>\n",
       "      <td>執行副總經理</td>\n",
       "      <td>余曉芸</td>\n",
       "      <td>(02)2551-5211</td>\n",
       "      <td>...</td>\n",
       "      <td>1.0</td>\n",
       "      <td>群益金鼎證券股份有限公司股代部</td>\n",
       "      <td>(02)2702-3999</td>\n",
       "      <td>台北市敦化南路2段97號地下2樓</td>\n",
       "      <td>CHC</td>\n",
       "      <td>No.96, Sec. 2, Zhongshan N. Rd., Zhongshan Dis...</td>\n",
       "      <td>(02)2511-4002</td>\n",
       "      <td>investor-relations@chcgroup.com.tw</td>\n",
       "      <td>www.chcgroup.com.tw</td>\n",
       "      <td>NaN</td>\n",
       "    </tr>\n",
       "    <tr>\n",
       "      <th>1104</th>\n",
       "      <td>環球水泥股份有限公司</td>\n",
       "      <td>水泥工業</td>\n",
       "      <td>台北市南京東路二段125號10樓</td>\n",
       "      <td>7568009.0</td>\n",
       "      <td>侯博義</td>\n",
       "      <td>侯博義</td>\n",
       "      <td>楊宗仁</td>\n",
       "      <td>經理</td>\n",
       "      <td>詹志鴻</td>\n",
       "      <td>02-25077801</td>\n",
       "      <td>...</td>\n",
       "      <td>1.0</td>\n",
       "      <td>凱基證券股份有限公司股務代理部</td>\n",
       "      <td>02-23892999</td>\n",
       "      <td>﹝100﹞台北市重慶南路一段2號5樓</td>\n",
       "      <td>UCC</td>\n",
       "      <td>10th F1., 125 Nanking E.Rd Sec. 2,Taipei Taiwan</td>\n",
       "      <td>02-25075870</td>\n",
       "      <td>ucc@ucctw.com</td>\n",
       "      <td>www.ucctw.com</td>\n",
       "      <td>NaN</td>\n",
       "    </tr>\n",
       "    <tr>\n",
       "      <th>1108</th>\n",
       "      <td>幸福水泥股份有限公司</td>\n",
       "      <td>水泥工業</td>\n",
       "      <td>台北市松江路237號15樓</td>\n",
       "      <td>40601248.0</td>\n",
       "      <td>陳兩傳</td>\n",
       "      <td>陳兩傳</td>\n",
       "      <td>溫秀菊</td>\n",
       "      <td>財務部經理</td>\n",
       "      <td>陳一誠</td>\n",
       "      <td>25092188</td>\n",
       "      <td>...</td>\n",
       "      <td>1.0</td>\n",
       "      <td>永豐金證券股務代理</td>\n",
       "      <td>2381-6288</td>\n",
       "      <td>台北市中正區博愛路17號3樓</td>\n",
       "      <td>LUCKY CEMENT</td>\n",
       "      <td>15TH FL.,NO.237,SUNG KIANG RD.,TAIPEI,TAIWAN,R...</td>\n",
       "      <td>25048672</td>\n",
       "      <td>wendy@luckygrp,com.tw</td>\n",
       "      <td>www.luckygrp.com.tw</td>\n",
       "      <td>NaN</td>\n",
       "    </tr>\n",
       "  </tbody>\n",
       "</table>\n",
       "<p>5 rows × 26 columns</p>\n",
       "</div>"
      ],
      "text/plain": [
       "            公司代號  公司名稱                     產業別          住址 營利事業統一編號  董事長  總經理  \\\n",
       "1101  台灣水泥股份有限公司  水泥工業           台北市中山北路2段113號  11913502.0      張安平  李鐘培  黃健強   \n",
       "1102  亞洲水泥股份有限公司  水泥工業  台北市大安區敦化南路2段207號30、31樓   3244509.0      徐旭東  李坤炎  周維崑   \n",
       "1103  嘉新水泥股份有限公司  水泥工業            台北市中山北路2段96號  11892801.0      張剛綸  祁士鉅  王立心   \n",
       "1104  環球水泥股份有限公司  水泥工業        台北市南京東路二段125號10樓   7568009.0      侯博義  侯博義  楊宗仁   \n",
       "1108  幸福水泥股份有限公司  水泥工業           台北市松江路237號15樓  40601248.0      陳兩傳  陳兩傳  溫秀菊   \n",
       "\n",
       "         發言人 發言人職稱          代理發言人 ...  特別股         編制財務報表類型         股票過戶機構  \\\n",
       "1101  資深副總經理   蔡立文  (02)2531-7099 ...  1.0      中國信託商業銀行代理部       66365566   \n",
       "1102    副總經理   吳玲綾   02-2733-8000 ...  1.0       亞東證券股份有限公司   02-2361-8608   \n",
       "1103  執行副總經理   余曉芸  (02)2551-5211 ...  1.0  群益金鼎證券股份有限公司股代部  (02)2702-3999   \n",
       "1104      經理   詹志鴻    02-25077801 ...  1.0  凱基證券股份有限公司股務代理部    02-23892999   \n",
       "1108   財務部經理   陳一誠       25092188 ...  1.0        永豐金證券股務代理      2381-6288   \n",
       "\n",
       "                    過戶電話          過戶地址  \\\n",
       "1101      台北市重慶南路一段83號5樓           TCC   \n",
       "1102      台北市重慶南路一段86號3樓           ACC   \n",
       "1103    台北市敦化南路2段97號地下2樓           CHC   \n",
       "1104  ﹝100﹞台北市重慶南路一段2號5樓           UCC   \n",
       "1108      台北市中正區博愛路17號3樓  LUCKY CEMENT   \n",
       "\n",
       "                                                   英文簡稱         英文通訊地址  \\\n",
       "1101  No.113, Sec.2, Zhongshan N. Rd.,Taipei City 10...  (02)2531-6529   \n",
       "1102  30TH FLOOR,TAIPEI METRO TOWER,207.TUN HWA SOUT...   02-2378-5191   \n",
       "1103  No.96, Sec. 2, Zhongshan N. Rd., Zhongshan Dis...  (02)2511-4002   \n",
       "1104    10th F1., 125 Nanking E.Rd Sec. 2,Taipei Taiwan    02-25075870   \n",
       "1108  15TH FL.,NO.237,SUNG KIANG RD.,TAIPEI,TAIWAN,R...       25048672   \n",
       "\n",
       "                                   傳真機號碼                       電子郵件信箱 網址   \n",
       "1101            finance@taiwancement.com  http://www.taiwancement.com NaN  \n",
       "1102                  service@acc.com.tw               www.acc.com.tw NaN  \n",
       "1103  investor-relations@chcgroup.com.tw          www.chcgroup.com.tw NaN  \n",
       "1104                       ucc@ucctw.com                www.ucctw.com NaN  \n",
       "1108               wendy@luckygrp,com.tw          www.luckygrp.com.tw NaN  \n",
       "\n",
       "[5 rows x 26 columns]"
      ]
     },
     "execution_count": 6,
     "metadata": {},
     "output_type": "execute_result"
    }
   ],
   "source": [
    "from io import StringIO\n",
    "import pandas as pd\n",
    "data = StringIO(r.text)\n",
    "df=pd.read_csv(data, skiprows=1)\n",
    "df.head()"
   ]
  },
  {
   "cell_type": "markdown",
   "metadata": {},
   "source": [
    "# Q4. 畫出技術曲線"
   ]
  },
  {
   "cell_type": "code",
   "execution_count": 7,
   "metadata": {
    "collapsed": false
   },
   "outputs": [],
   "source": [
    "# 讀出預先下載好的股價資料\n",
    "import pickle\n",
    "with open('stockdata', 'rb') as f:\n",
    "    data = pickle.load(file=f)"
   ]
  },
  {
   "cell_type": "code",
   "execution_count": 8,
   "metadata": {
    "collapsed": false
   },
   "outputs": [
    {
     "data": {
      "text/html": [
       "<div>\n",
       "<style scoped>\n",
       "    .dataframe tbody tr th:only-of-type {\n",
       "        vertical-align: middle;\n",
       "    }\n",
       "\n",
       "    .dataframe tbody tr th {\n",
       "        vertical-align: top;\n",
       "    }\n",
       "\n",
       "    .dataframe thead th {\n",
       "        text-align: right;\n",
       "    }\n",
       "</style>\n",
       "<table border=\"1\" class=\"dataframe\">\n",
       "  <thead>\n",
       "    <tr style=\"text-align: right;\">\n",
       "      <th></th>\n",
       "      <th>Open</th>\n",
       "      <th>High</th>\n",
       "      <th>Low</th>\n",
       "      <th>Close</th>\n",
       "      <th>Adj Close</th>\n",
       "      <th>Volume</th>\n",
       "    </tr>\n",
       "    <tr>\n",
       "      <th>Date</th>\n",
       "      <th></th>\n",
       "      <th></th>\n",
       "      <th></th>\n",
       "      <th></th>\n",
       "      <th></th>\n",
       "      <th></th>\n",
       "    </tr>\n",
       "  </thead>\n",
       "  <tbody>\n",
       "    <tr>\n",
       "      <th>2016-09-22</th>\n",
       "      <td>25.360001</td>\n",
       "      <td>25.360001</td>\n",
       "      <td>25.350000</td>\n",
       "      <td>25.350000</td>\n",
       "      <td>25.084217</td>\n",
       "      <td>205000</td>\n",
       "    </tr>\n",
       "    <tr>\n",
       "      <th>2016-09-23</th>\n",
       "      <td>25.350000</td>\n",
       "      <td>25.350000</td>\n",
       "      <td>25.350000</td>\n",
       "      <td>25.350000</td>\n",
       "      <td>25.084217</td>\n",
       "      <td>0</td>\n",
       "    </tr>\n",
       "    <tr>\n",
       "      <th>2016-09-26</th>\n",
       "      <td>25.000000</td>\n",
       "      <td>25.000000</td>\n",
       "      <td>25.000000</td>\n",
       "      <td>25.000000</td>\n",
       "      <td>24.737886</td>\n",
       "      <td>400</td>\n",
       "    </tr>\n",
       "    <tr>\n",
       "      <th>2016-09-27</th>\n",
       "      <td>25.000000</td>\n",
       "      <td>25.000000</td>\n",
       "      <td>25.000000</td>\n",
       "      <td>25.000000</td>\n",
       "      <td>24.737886</td>\n",
       "      <td>0</td>\n",
       "    </tr>\n",
       "    <tr>\n",
       "      <th>2016-09-28</th>\n",
       "      <td>25.900000</td>\n",
       "      <td>25.900000</td>\n",
       "      <td>25.059999</td>\n",
       "      <td>25.059999</td>\n",
       "      <td>24.797258</td>\n",
       "      <td>7100</td>\n",
       "    </tr>\n",
       "  </tbody>\n",
       "</table>\n",
       "</div>"
      ],
      "text/plain": [
       "                 Open       High        Low      Close  Adj Close  Volume\n",
       "Date                                                                     \n",
       "2016-09-22  25.360001  25.360001  25.350000  25.350000  25.084217  205000\n",
       "2016-09-23  25.350000  25.350000  25.350000  25.350000  25.084217       0\n",
       "2016-09-26  25.000000  25.000000  25.000000  25.000000  24.737886     400\n",
       "2016-09-27  25.000000  25.000000  25.000000  25.000000  24.737886       0\n",
       "2016-09-28  25.900000  25.900000  25.059999  25.059999  24.797258    7100"
      ]
     },
     "execution_count": 8,
     "metadata": {},
     "output_type": "execute_result"
    }
   ],
   "source": [
    "df = data['PSC']\n",
    "df.head()"
   ]
  },
  {
   "cell_type": "markdown",
   "metadata": {},
   "source": [
    "# 順勢指標(CCI) 計算方式\n",
    "\n",
    "$$ \\frac{TP-MA}{MD*0.015} $$\n",
    "\n",
    "1. TP=(當日最高價+當日最低價+當日收盤價)/3\n",
    "2. MA=最近20日的收盤價平均\n",
    "3. MD=最近20日離差(MA-收盤價)絕對值平均"
   ]
  },
  {
   "cell_type": "code",
   "execution_count": 9,
   "metadata": {
    "collapsed": false
   },
   "outputs": [
    {
     "data": {
      "text/html": [
       "<div>\n",
       "<style scoped>\n",
       "    .dataframe tbody tr th:only-of-type {\n",
       "        vertical-align: middle;\n",
       "    }\n",
       "\n",
       "    .dataframe tbody tr th {\n",
       "        vertical-align: top;\n",
       "    }\n",
       "\n",
       "    .dataframe thead th {\n",
       "        text-align: right;\n",
       "    }\n",
       "</style>\n",
       "<table border=\"1\" class=\"dataframe\">\n",
       "  <thead>\n",
       "    <tr style=\"text-align: right;\">\n",
       "      <th></th>\n",
       "      <th>Open</th>\n",
       "      <th>High</th>\n",
       "      <th>Low</th>\n",
       "      <th>Close</th>\n",
       "      <th>Adj Close</th>\n",
       "      <th>Volume</th>\n",
       "      <th>TP</th>\n",
       "      <th>20MA</th>\n",
       "      <th>MD</th>\n",
       "      <th>20MD</th>\n",
       "      <th>CCI</th>\n",
       "    </tr>\n",
       "    <tr>\n",
       "      <th>Date</th>\n",
       "      <th></th>\n",
       "      <th></th>\n",
       "      <th></th>\n",
       "      <th></th>\n",
       "      <th></th>\n",
       "      <th></th>\n",
       "      <th></th>\n",
       "      <th></th>\n",
       "      <th></th>\n",
       "      <th></th>\n",
       "      <th></th>\n",
       "    </tr>\n",
       "  </thead>\n",
       "  <tbody>\n",
       "    <tr>\n",
       "      <th>2017-11-29</th>\n",
       "      <td>30.479000</td>\n",
       "      <td>30.479000</td>\n",
       "      <td>30.479000</td>\n",
       "      <td>30.479000</td>\n",
       "      <td>30.479000</td>\n",
       "      <td>0</td>\n",
       "      <td>30.479000</td>\n",
       "      <td>30.47900</td>\n",
       "      <td>6.394885e-14</td>\n",
       "      <td>0.152537</td>\n",
       "      <td>-2.794892e-11</td>\n",
       "    </tr>\n",
       "    <tr>\n",
       "      <th>2017-11-30</th>\n",
       "      <td>30.479000</td>\n",
       "      <td>30.479000</td>\n",
       "      <td>30.479000</td>\n",
       "      <td>30.479000</td>\n",
       "      <td>30.479000</td>\n",
       "      <td>0</td>\n",
       "      <td>30.479000</td>\n",
       "      <td>30.47900</td>\n",
       "      <td>6.394885e-14</td>\n",
       "      <td>0.138355</td>\n",
       "      <td>-3.081390e-11</td>\n",
       "    </tr>\n",
       "    <tr>\n",
       "      <th>2017-12-01</th>\n",
       "      <td>30.764999</td>\n",
       "      <td>30.764999</td>\n",
       "      <td>30.764999</td>\n",
       "      <td>30.764999</td>\n",
       "      <td>30.764999</td>\n",
       "      <td>300</td>\n",
       "      <td>30.764999</td>\n",
       "      <td>30.49330</td>\n",
       "      <td>2.716990e-01</td>\n",
       "      <td>0.138255</td>\n",
       "      <td>1.310135e+02</td>\n",
       "    </tr>\n",
       "    <tr>\n",
       "      <th>2017-12-04</th>\n",
       "      <td>31.054001</td>\n",
       "      <td>31.054001</td>\n",
       "      <td>31.000000</td>\n",
       "      <td>31.000000</td>\n",
       "      <td>31.000000</td>\n",
       "      <td>400</td>\n",
       "      <td>31.018000</td>\n",
       "      <td>30.51935</td>\n",
       "      <td>4.806500e-01</td>\n",
       "      <td>0.149100</td>\n",
       "      <td>2.229602e+02</td>\n",
       "    </tr>\n",
       "    <tr>\n",
       "      <th>2017-12-04</th>\n",
       "      <td>31.054199</td>\n",
       "      <td>31.054199</td>\n",
       "      <td>31.000000</td>\n",
       "      <td>31.000000</td>\n",
       "      <td>31.000000</td>\n",
       "      <td>369</td>\n",
       "      <td>31.018066</td>\n",
       "      <td>30.54540</td>\n",
       "      <td>4.546000e-01</td>\n",
       "      <td>0.159140</td>\n",
       "      <td>1.980087e+02</td>\n",
       "    </tr>\n",
       "  </tbody>\n",
       "</table>\n",
       "</div>"
      ],
      "text/plain": [
       "                 Open       High        Low      Close  Adj Close  Volume  \\\n",
       "Date                                                                        \n",
       "2017-11-29  30.479000  30.479000  30.479000  30.479000  30.479000       0   \n",
       "2017-11-30  30.479000  30.479000  30.479000  30.479000  30.479000       0   \n",
       "2017-12-01  30.764999  30.764999  30.764999  30.764999  30.764999     300   \n",
       "2017-12-04  31.054001  31.054001  31.000000  31.000000  31.000000     400   \n",
       "2017-12-04  31.054199  31.054199  31.000000  31.000000  31.000000     369   \n",
       "\n",
       "                   TP      20MA            MD      20MD           CCI  \n",
       "Date                                                                   \n",
       "2017-11-29  30.479000  30.47900  6.394885e-14  0.152537 -2.794892e-11  \n",
       "2017-11-30  30.479000  30.47900  6.394885e-14  0.138355 -3.081390e-11  \n",
       "2017-12-01  30.764999  30.49330  2.716990e-01  0.138255  1.310135e+02  \n",
       "2017-12-04  31.018000  30.51935  4.806500e-01  0.149100  2.229602e+02  \n",
       "2017-12-04  31.018066  30.54540  4.546000e-01  0.159140  1.980087e+02  "
      ]
     },
     "execution_count": 9,
     "metadata": {},
     "output_type": "execute_result"
    }
   ],
   "source": [
    "#CCI順勢指標\n",
    "import pandas as pd\n",
    "df['TP']=(df['Close']+df['High']+df['Low'])/3\n",
    "df['20MA']=pd.Series.rolling(df['Close'], window=20).mean()\n",
    "df['MD']=abs(df['20MA']-df['Close'])\n",
    "df['20MD']=pd.Series.rolling(df['MD'], window=20).mean()\n",
    "df['CCI']=(df['TP']-df['20MA'])/(df['20MD']*0.015)\n",
    "df.tail()"
   ]
  },
  {
   "cell_type": "code",
   "execution_count": 10,
   "metadata": {
    "collapsed": false
   },
   "outputs": [
    {
     "data": {
      "text/plain": [
       "<matplotlib.axes._subplots.AxesSubplot at 0x2be8717bc88>"
      ]
     },
     "execution_count": 10,
     "metadata": {},
     "output_type": "execute_result"
    },
    {
     "data": {
      "image/png": "[encoded data removed]",
      "text/plain": [
       "<matplotlib.figure.Figure at 0x2be8423fd30>"
      ]
     },
     "metadata": {},
     "output_type": "display_data"
    }
   ],
   "source": [
    "import matplotlib.pyplot as plt\n",
    "%matplotlib inline\n",
    "plt.figure()\n",
    "plt.subplot(2,1,1)\n",
    "df[['Close', '20MA']].plot(legend='best', figsize=(10,8),ax=plt.gca())\n",
    "plt.subplot(2,1,2)\n",
    "df['CCI'].plot(legend='best', figsize=(10,8),ax=plt.gca())"
   ]
  },
  {
   "cell_type": "markdown",
   "metadata": {},
   "source": [
    "# Q5. 策略回測"
   ]
  },
  {
   "cell_type": "code",
   "execution_count": 11,
   "metadata": {
    "collapsed": false
   },
   "outputs": [],
   "source": [
    "import talib\n",
    "from talib import MA_Type\n",
    "import numpy as np\n",
    "import ffn"
   ]
  },
  {
   "cell_type": "code",
   "execution_count": 12,
   "metadata": {
    "collapsed": true
   },
   "outputs": [],
   "source": [
    "# 計算 MaxDD\n",
    "def DrawDownAnalysis(cumRet):\n",
    "    dd_series = ffn.core.to_drawdown_series(cumRet)\n",
    "    dd_details = ffn.core.drawdown_details(dd_series)\n",
    "    return dd_details['drawdown'].min(), dd_details['days'].max()"
   ]
  },
  {
   "cell_type": "code",
   "execution_count": 13,
   "metadata": {
    "collapsed": true
   },
   "outputs": [],
   "source": [
    "# 利用策略產生的持有部位資訊，計算底下四個指標來判斷投資績效\n",
    "# sharpe ratio: 判斷報酬的好壞跟穩定度，數值越大越好\n",
    "# maxdd: maximum drawdown, 最糟糕的狀況會賠幾 %\n",
    "# maxddd: maximum drawdown duration, 低於上一次最高報酬的天數\n",
    "# cumRet[-1]: 最後賺的 % 數\n",
    "\n",
    "def indicators(df):\n",
    "    dailyRet = df['Close'].pct_change()\n",
    "    excessRet = (dailyRet - 0.04/252)[df['positions'] == 1]\n",
    "    SharpeRatio = np.sqrt(252.0)*np.mean(excessRet)/np.std(excessRet)\n",
    "    \n",
    "    cumRet = np.cumprod(1+excessRet)\n",
    "    \n",
    "    maxdd, maxddd = DrawDownAnalysis(cumRet)\n",
    "    \n",
    "    return SharpeRatio, maxdd, maxddd, cumRet[-1]"
   ]
  },
  {
   "cell_type": "code",
   "execution_count": 14,
   "metadata": {
    "collapsed": true
   },
   "outputs": [],
   "source": [
    "def Breakout_strategy(df):\n",
    "    # Donchian Channel\n",
    "    df['20d_high'] = np.round(pd.Series.rolling(df['Close'], window=20).max(), 2)\n",
    "    df['10d_low'] = np.round(pd.Series.rolling(df['Close'], window=10).min(), 2)\n",
    "\n",
    "    has_position = False\n",
    "    df['signals'] = 0\n",
    "    for t in range(2, df['signals'].size):\n",
    "        if df['Close'][t] > df['20d_high'][t-1]:\n",
    "            if not has_position:\n",
    "                df.loc[df.index[t], 'signals'] = 1\n",
    "                has_position = True\n",
    "        elif df['Close'][t] < df['10d_low'][t-1]:\n",
    "            if has_position:\n",
    "                df.loc[df.index[t], 'signals'] = -1\n",
    "                has_position = False\n",
    "\n",
    "    df['positions'] = df['signals'].cumsum().shift()\n",
    "    return df"
   ]
  },
  {
   "cell_type": "code",
   "execution_count": 15,
   "metadata": {
    "collapsed": true
   },
   "outputs": [],
   "source": [
    "def RSI_7030_strategy(df):\n",
    "    df['RSI'] = talib.RSI(df['Close'].values)\n",
    "    \n",
    "    has_position = False\n",
    "    df['signals'] = 0\n",
    "    for t in range(2, df['signals'].size):\n",
    "        if df['RSI'][t-1] < 30:\n",
    "            if not has_position:\n",
    "                df.loc[df.index[t], 'signals'] = 1\n",
    "                has_position = True\n",
    "        elif df['RSI'][t-1] > 70:\n",
    "            if has_position:\n",
    "                df.loc[df.index[t], 'signals'] = -1\n",
    "                has_position = False\n",
    "\n",
    "    df['positions'] = df['signals'].cumsum().shift()\n",
    "    return df"
   ]
  },
  {
   "cell_type": "code",
   "execution_count": 16,
   "metadata": {
    "collapsed": true
   },
   "outputs": [],
   "source": [
    "def BBands_strategy(df):\n",
    "    df['UBB'], df['MBB'], df['LBB'] = talib.BBANDS(df['Close'].values, matype=MA_Type.T3)\n",
    "\n",
    "    has_position = False\n",
    "    df['signals'] = 0\n",
    "    for t in range(2, df['signals'].size):\n",
    "        if df['Close'][t] < df['LBB'][t-1]:\n",
    "            if not has_position:\n",
    "                df.loc[df.index[t], 'signals'] = 1\n",
    "                has_position = True\n",
    "        elif df['Close'][t] > df['UBB'][t-1]:\n",
    "            if has_position:\n",
    "                df.loc[df.index[t], 'signals'] = -1\n",
    "                has_position = False\n",
    "\n",
    "    df['positions'] = df['signals'].cumsum().shift()\n",
    "    return df"
   ]
  },
  {
   "cell_type": "code",
   "execution_count": 17,
   "metadata": {
    "collapsed": false
   },
   "outputs": [],
   "source": [
    "#CCI由下往上突破100，買進;由上往下突破100，賣出\n",
    "def M054030031_strategy(df):\n",
    "    # Donchian Channel\n",
    "    df['TP']=(df['Close']+df['High']+df['Low'])/3\n",
    "    df['20MA']=pd.Series.rolling(df['Close'], window=20).mean()\n",
    "    df['MD']=abs(df['20MA']-df['Close'])\n",
    "    df['20MD']=pd.Series.rolling(df['MD'], window=20).mean()\n",
    "    df['CCI']=(df['TP']-df['20MA'])/(df['20MD']*0.015)\n",
    "\n",
    "    has_position = False\n",
    "    df['signals'] = 0\n",
    "    for t in range(2, df['signals'].size):\n",
    "        if df['CCI'][t] > df['CCI'][t-1] and df['CCI'][t] > 100:\n",
    "            if not has_position:\n",
    "                df.loc[df.index[t], 'signals'] = 1\n",
    "                has_position = True\n",
    "        elif df['CCI'][t] < df['CCI'][t-1] and df['CCI'][t] < 100:\n",
    "            if has_position:\n",
    "                df.loc[df.index[t], 'signals'] = -1\n",
    "                has_position = False\n",
    "        elif t == (df['signals'].size-1) :\n",
    "            if has_position:\n",
    "                df.loc[df.index[t], 'signals'] = -1\n",
    "                has_position = False\n",
    "\n",
    "    df['positions'] = df['signals'].cumsum().shift()\n",
    "    return df\n"
   ]
  },
  {
   "cell_type": "code",
   "execution_count": 18,
   "metadata": {
    "collapsed": true
   },
   "outputs": [],
   "source": [
    "def apply_strategy(strategy, df):\n",
    "    return strategy(df)"
   ]
  },
  {
   "cell_type": "code",
   "execution_count": 19,
   "metadata": {
    "collapsed": false
   },
   "outputs": [],
   "source": [
    "# 計算各支股票的回測結果\n",
    "results = []\n",
    "\n",
    "#strategies = [Breakout_strategy, RSI_7030_strategy, BBands_strategy, 學號_strategy]\n",
    "strategies = [Breakout_strategy, RSI_7030_strategy, BBands_strategy,M054030031_strategy]\n",
    "\n",
    "for symbol in data:\n",
    "    for strategy in strategies:\n",
    "        try:\n",
    "            apply_strategy(strategy, data[symbol])\n",
    "            if np.all(data[symbol]['signals']==0):\n",
    "                print(\"Symbol:\", symbol, \"使用\", strategy.__name__, \"策略沒有出現買賣訊號。\")\n",
    "                continue\n",
    "            SharpeRatio, maxdd, maxddd, finalRet = indicators(data[symbol])\n",
    "            days = (data[symbol].index[-1] - data[symbol].index[0]).days\n",
    "            results.append((SharpeRatio, maxdd, maxddd, finalRet, days,\n",
    "                            data[symbol][data[symbol]['signals'] > 0]['signals'].sum(), symbol, strategy.__name__))\n",
    "        except Exception as e:\n",
    "            print(\"Error occurs at symbol:\", symbol, \"Strategy:\", strategy.__name__, \"==>\", e.args)"
   ]
  },
  {
   "cell_type": "code",
   "execution_count": 20,
   "metadata": {
    "collapsed": true
   },
   "outputs": [],
   "source": [
    "results_df = pd.DataFrame(results, columns=['sharpe','MaxDrawDown','MaxDrawDownDuration','returns', \n",
    "                                            'days', 'entries','symbol','strategy'])"
   ]
  },
  {
   "cell_type": "code",
   "execution_count": 21,
   "metadata": {
    "collapsed": false
   },
   "outputs": [
    {
     "data": {
      "text/html": [
       "<div>\n",
       "<style scoped>\n",
       "    .dataframe tbody tr th:only-of-type {\n",
       "        vertical-align: middle;\n",
       "    }\n",
       "\n",
       "    .dataframe tbody tr th {\n",
       "        vertical-align: top;\n",
       "    }\n",
       "\n",
       "    .dataframe thead th {\n",
       "        text-align: right;\n",
       "    }\n",
       "</style>\n",
       "<table border=\"1\" class=\"dataframe\">\n",
       "  <thead>\n",
       "    <tr style=\"text-align: right;\">\n",
       "      <th></th>\n",
       "      <th>sharpe</th>\n",
       "      <th>MaxDrawDown</th>\n",
       "      <th>MaxDrawDownDuration</th>\n",
       "      <th>returns</th>\n",
       "      <th>days</th>\n",
       "      <th>entries</th>\n",
       "      <th>symbol</th>\n",
       "      <th>strategy</th>\n",
       "    </tr>\n",
       "  </thead>\n",
       "  <tbody>\n",
       "    <tr>\n",
       "      <th>73</th>\n",
       "      <td>6.306176</td>\n",
       "      <td>-0.003654</td>\n",
       "      <td>122</td>\n",
       "      <td>1.028222</td>\n",
       "      <td>473</td>\n",
       "      <td>3</td>\n",
       "      <td>LCA</td>\n",
       "      <td>RSI_7030_strategy</td>\n",
       "    </tr>\n",
       "    <tr>\n",
       "      <th>17</th>\n",
       "      <td>10.243474</td>\n",
       "      <td>-0.006251</td>\n",
       "      <td>3</td>\n",
       "      <td>1.132402</td>\n",
       "      <td>705</td>\n",
       "      <td>1</td>\n",
       "      <td>GOOG</td>\n",
       "      <td>RSI_7030_strategy</td>\n",
       "    </tr>\n",
       "    <tr>\n",
       "      <th>74</th>\n",
       "      <td>2.038551</td>\n",
       "      <td>-0.013673</td>\n",
       "      <td>119</td>\n",
       "      <td>1.060527</td>\n",
       "      <td>473</td>\n",
       "      <td>16</td>\n",
       "      <td>LCA</td>\n",
       "      <td>BBands_strategy</td>\n",
       "    </tr>\n",
       "    <tr>\n",
       "      <th>67</th>\n",
       "      <td>-0.247757</td>\n",
       "      <td>-0.015649</td>\n",
       "      <td>151</td>\n",
       "      <td>0.998643</td>\n",
       "      <td>384</td>\n",
       "      <td>3</td>\n",
       "      <td>SCAC</td>\n",
       "      <td>M054030031_strategy</td>\n",
       "    </tr>\n",
       "    <tr>\n",
       "      <th>39</th>\n",
       "      <td>4.428078</td>\n",
       "      <td>-0.022165</td>\n",
       "      <td>64</td>\n",
       "      <td>1.052212</td>\n",
       "      <td>203</td>\n",
       "      <td>6</td>\n",
       "      <td>CSML</td>\n",
       "      <td>M054030031_strategy</td>\n",
       "    </tr>\n",
       "  </tbody>\n",
       "</table>\n",
       "</div>"
      ],
      "text/plain": [
       "       sharpe  MaxDrawDown  MaxDrawDownDuration   returns  days  entries  \\\n",
       "73   6.306176    -0.003654                  122  1.028222   473        3   \n",
       "17  10.243474    -0.006251                    3  1.132402   705        1   \n",
       "74   2.038551    -0.013673                  119  1.060527   473       16   \n",
       "67  -0.247757    -0.015649                  151  0.998643   384        3   \n",
       "39   4.428078    -0.022165                   64  1.052212   203        6   \n",
       "\n",
       "   symbol             strategy  \n",
       "73    LCA    RSI_7030_strategy  \n",
       "17   GOOG    RSI_7030_strategy  \n",
       "74    LCA      BBands_strategy  \n",
       "67   SCAC  M054030031_strategy  \n",
       "39   CSML  M054030031_strategy  "
      ]
     },
     "execution_count": 21,
     "metadata": {},
     "output_type": "execute_result"
    }
   ],
   "source": [
    "results_df.sort_values('MaxDrawDown',ascending=False).head()"
   ]
  },
  {
   "cell_type": "code",
   "execution_count": 22,
   "metadata": {
    "collapsed": false
   },
   "outputs": [
    {
     "data": {
      "text/html": [
       "<div>\n",
       "<style scoped>\n",
       "    .dataframe tbody tr th:only-of-type {\n",
       "        vertical-align: middle;\n",
       "    }\n",
       "\n",
       "    .dataframe tbody tr th {\n",
       "        vertical-align: top;\n",
       "    }\n",
       "\n",
       "    .dataframe thead th {\n",
       "        text-align: right;\n",
       "    }\n",
       "</style>\n",
       "<table border=\"1\" class=\"dataframe\">\n",
       "  <thead>\n",
       "    <tr style=\"text-align: right;\">\n",
       "      <th></th>\n",
       "      <th>sharpe</th>\n",
       "      <th>MaxDrawDown</th>\n",
       "      <th>MaxDrawDownDuration</th>\n",
       "      <th>returns</th>\n",
       "      <th>days</th>\n",
       "      <th>entries</th>\n",
       "      <th>symbol</th>\n",
       "      <th>strategy</th>\n",
       "    </tr>\n",
       "  </thead>\n",
       "  <tbody>\n",
       "    <tr>\n",
       "      <th>43</th>\n",
       "      <td>3.227977</td>\n",
       "      <td>-0.283574</td>\n",
       "      <td>177</td>\n",
       "      <td>2.517655</td>\n",
       "      <td>705</td>\n",
       "      <td>7</td>\n",
       "      <td>NLNK</td>\n",
       "      <td>M054030031_strategy</td>\n",
       "    </tr>\n",
       "    <tr>\n",
       "      <th>9</th>\n",
       "      <td>2.013777</td>\n",
       "      <td>-0.219296</td>\n",
       "      <td>167</td>\n",
       "      <td>2.477803</td>\n",
       "      <td>705</td>\n",
       "      <td>4</td>\n",
       "      <td>AMOT</td>\n",
       "      <td>RSI_7030_strategy</td>\n",
       "    </tr>\n",
       "    <tr>\n",
       "      <th>14</th>\n",
       "      <td>2.062962</td>\n",
       "      <td>-0.286661</td>\n",
       "      <td>113</td>\n",
       "      <td>2.422460</td>\n",
       "      <td>705</td>\n",
       "      <td>22</td>\n",
       "      <td>CDZI</td>\n",
       "      <td>BBands_strategy</td>\n",
       "    </tr>\n",
       "    <tr>\n",
       "      <th>78</th>\n",
       "      <td>2.136744</td>\n",
       "      <td>-0.454342</td>\n",
       "      <td>191</td>\n",
       "      <td>2.400221</td>\n",
       "      <td>705</td>\n",
       "      <td>21</td>\n",
       "      <td>BBGI</td>\n",
       "      <td>BBands_strategy</td>\n",
       "    </tr>\n",
       "    <tr>\n",
       "      <th>5</th>\n",
       "      <td>2.424484</td>\n",
       "      <td>-0.169115</td>\n",
       "      <td>115</td>\n",
       "      <td>2.151881</td>\n",
       "      <td>705</td>\n",
       "      <td>3</td>\n",
       "      <td>TWIN</td>\n",
       "      <td>RSI_7030_strategy</td>\n",
       "    </tr>\n",
       "  </tbody>\n",
       "</table>\n",
       "</div>"
      ],
      "text/plain": [
       "      sharpe  MaxDrawDown  MaxDrawDownDuration   returns  days  entries  \\\n",
       "43  3.227977    -0.283574                  177  2.517655   705        7   \n",
       "9   2.013777    -0.219296                  167  2.477803   705        4   \n",
       "14  2.062962    -0.286661                  113  2.422460   705       22   \n",
       "78  2.136744    -0.454342                  191  2.400221   705       21   \n",
       "5   2.424484    -0.169115                  115  2.151881   705        3   \n",
       "\n",
       "   symbol             strategy  \n",
       "43   NLNK  M054030031_strategy  \n",
       "9    AMOT    RSI_7030_strategy  \n",
       "14   CDZI      BBands_strategy  \n",
       "78   BBGI      BBands_strategy  \n",
       "5    TWIN    RSI_7030_strategy  "
      ]
     },
     "execution_count": 22,
     "metadata": {},
     "output_type": "execute_result"
    }
   ],
   "source": [
    "results_df.sort_values('returns',ascending=False).head()"
   ]
  }
 ],
 "metadata": {
  "kernelspec": {
   "display_name": "Python 3",
   "language": "python",
   "name": "python3"
  },
  "language_info": {
   "codemirror_mode": {
    "name": "ipython",
    "version": 3
   },
   "file_extension": ".py",
   "mimetype": "text/x-python",
   "name": "python",
   "nbconvert_exporter": "python",
   "pygments_lexer": "ipython3",
   "version": "3.6.0"
  }
 },
 "nbformat": 4,
 "nbformat_minor": 2
}
