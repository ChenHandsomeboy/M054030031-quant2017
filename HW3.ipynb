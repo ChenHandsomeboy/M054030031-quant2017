{
 "cells": [
  {
   "cell_type": "markdown",
   "metadata": {},
   "source": [
    "## Text Summerization Using Jieba"
   ]
  },
  {
   "cell_type": "code",
   "execution_count": 1,
   "metadata": {
    "collapsed": true
   },
   "outputs": [],
   "source": [
    "import requests\n",
    "from bs4 import BeautifulSoup"
   ]
  },
  {
   "cell_type": "code",
   "execution_count": 2,
   "metadata": {
    "collapsed": true
   },
   "outputs": [],
   "source": [
    "url = \"http://news.cnyes.com/Content/20151214/20151214080543107512510.shtml?c=headline\""
   ]
  },
  {
   "cell_type": "code",
   "execution_count": 3,
   "metadata": {
    "collapsed": true
   },
   "outputs": [],
   "source": [
    "r = requests.get(url)"
   ]
  },
  {
   "cell_type": "code",
   "execution_count": 4,
   "metadata": {
    "collapsed": false
   },
   "outputs": [
    {
     "data": {
      "text/plain": [
       "'台股上週五因為信心不足，終場下跌100.28點，以8115.89點作收，成交值874.35億元；周線則以下跌282.71點收長黑。展望今(14)日台股，美股在台灣時間上週六清晨以重挫309點坐收，內外交迫，今天恐回測本波起漲點8059點。\\n回顧上週的台股，上週五周線以長黑的下跌282.71點坐收，賣壓蓋頭，主要是內、外資都不挺台股，主力股、法人股的籌碼面混亂。外資因為美國FED即將升息，在期、現聯手偏空操作，內資法人則是因為年底做賬，獲利了結出場。\\xa0\\n而在台灣時間上週六(12日)清晨收盤的美股，則因油價接近7年低點，加上併購案暗示經濟不佳，道瓊以重挫309點坐收，再度不利台股的止跌回升。\\n法人預期，若是外、內資繼續賣超台股，今天恐將回測本波起漲點8059點。在此賣壓籠罩的盤勢之下，低P/E、高現金殖利率或產業即將谷底翻升的個股，是現階段可以逢低酌量佈局的投資標的。\\n重大新聞方面，焦點還是中國紫光在台灣與全球的併購。國民黨總統候選人朱立倫日前表態，IC設計產業對台灣經濟非常敏感，若他當選總統，不會允許IC設計業對中國開放投資，因為現在時機尚未成熟。\\n而紫光集團董事長趙偉國昨日對媒體表示，投資力成、矽品與南茂，和軍事、安全沒有關係，紫光也不謀求對企業的控制權，更不存在壟斷問題，他看不出不批准的理由。\\n另一方面，紫光集團下一步將爭取入股美光及英特爾兩大握有記憶體關鍵技術的大廠，合作案已進入緊鑼密鼓階段。值此之際，台廠再度扮演關鍵角色，美光近期將整合旗下華亞科、瑞晶等廠區製造資源，以為與紫光合作預做準備。'"
      ]
     },
     "execution_count": 4,
     "metadata": {},
     "output_type": "execute_result"
    }
   ],
   "source": [
    "soup = BeautifulSoup(r.text,\"lxml\")\n",
    "news_text = soup.find_all(\"div\",{\"itemprop\":\"articleBody\"})[0].text\n",
    "news_text"
   ]
  },
  {
   "cell_type": "code",
   "execution_count": 5,
   "metadata": {
    "collapsed": false
   },
   "outputs": [
    {
     "data": {
      "text/plain": [
       "'台股上週五因為信心不足，終場下跌100.28點，以8115.89點作收，成交值874.35億元；周線則以下跌282.71點收長黑。展望今(14)日台股，美股在台灣時間上週六清晨以重挫309點坐收，內外交迫，今天恐回測本波起漲點8059點。'"
      ]
     },
     "execution_count": 5,
     "metadata": {},
     "output_type": "execute_result"
    }
   ],
   "source": [
    "news_summary = soup.find(\"div\",{\"itemprop\":\"articleBody\"}).find_all(\"p\")[0].text\n",
    "news_summary"
   ]
  },
  {
   "cell_type": "code",
   "execution_count": 6,
   "metadata": {
    "collapsed": false
   },
   "outputs": [],
   "source": [
    "import jieba\n",
    "import jieba.analyse"
   ]
  },
  {
   "cell_type": "code",
   "execution_count": 7,
   "metadata": {
    "collapsed": false
   },
   "outputs": [],
   "source": [
    "jieba.set_dictionary('dict.txt.big')"
   ]
  },
  {
   "cell_type": "code",
   "execution_count": 8,
   "metadata": {
    "collapsed": false
   },
   "outputs": [
    {
     "name": "stderr",
     "output_type": "stream",
     "text": [
      "Building prefix dict from C:\\Users\\user\\Documents\\Python程式交易\\jieba_demo-master\\jieba_demo-master\\dict.txt.big ...\n",
      "Loading model from cache C:\\Users\\user\\AppData\\Local\\Temp\\jieba.ue35aee4528657be951452e2e73ed9369.cache\n",
      "Loading model cost 1.760 seconds.\n",
      "Prefix dict has been built succesfully.\n"
     ]
    }
   ],
   "source": [
    "keywords = jieba.analyse.extract_tags(news_text, topK=10, withWeight=False)"
   ]
  },
  {
   "cell_type": "code",
   "execution_count": 9,
   "metadata": {
    "collapsed": false
   },
   "outputs": [
    {
     "name": "stdout",
     "output_type": "stream",
     "text": [
      "紫光/ 台股/ 因為/ 台灣/ 投資/ 坐收/ 美光/ 上週五/ 282.71/ 長黑\n"
     ]
    }
   ],
   "source": [
    "print (\"/ \".join(keywords))"
   ]
  },
  {
   "cell_type": "code",
   "execution_count": 10,
   "metadata": {
    "collapsed": false
   },
   "outputs": [
    {
     "data": {
      "text/plain": [
       "\"[('紫光', 0.220259857898), ('台股', 0.21252920005155554), ('因為', 0.21252920005155554), ('台灣', 0.21252920005155554), ('投資', 0.15939690003866666), ('坐收', 0.14190108152), ('美光', 0.12356157912888889), ('上週五', 0.10626460002577777), ('282.71', 0.10626460002577777), ('長黑', 0.10626460002577777)]\""
      ]
     },
     "execution_count": 10,
     "metadata": {},
     "output_type": "execute_result"
    }
   ],
   "source": [
    "repr(jieba.analyse.extract_tags(news_text, topK=10, withWeight=True))"
   ]
  },
  {
   "cell_type": "code",
   "execution_count": 11,
   "metadata": {
    "collapsed": false
   },
   "outputs": [
    {
     "data": {
      "text/plain": [
       "\"[('坐收', 1.0), ('主力', 0.9491100498195876), ('力成', 0.9491100498195876), ('回測', 0.8292445279738647), ('下跌', 0.7995540349091378), ('起漲', 0.6564906918460708), ('本波', 0.653387730698757), ('法人', 0.6432608427829624), ('看不出', 0.6432608427829624), ('角色', 0.6432608427829624)]\""
      ]
     },
     "execution_count": 11,
     "metadata": {},
     "output_type": "execute_result"
    }
   ],
   "source": [
    "repr(jieba.analyse.textrank(news_text, topK=10, withWeight=True))"
   ]
  },
  {
   "cell_type": "code",
   "execution_count": 12,
   "metadata": {
    "collapsed": true
   },
   "outputs": [],
   "source": [
    "def index_of_keyword(sentences, keyword):\n",
    "    for i, s in enumerate(sentences):\n",
    "        if keyword in s:\n",
    "              return i\n",
    "    return -1"
   ]
  },
  {
   "cell_type": "code",
   "execution_count": 13,
   "metadata": {
    "collapsed": false
   },
   "outputs": [
    {
     "data": {
      "text/plain": [
       "13"
      ]
     },
     "execution_count": 13,
     "metadata": {},
     "output_type": "execute_result"
    }
   ],
   "source": [
    "sentences = news_text.replace(\"\\n\",\"\").split(u\"。\")\n",
    "len(sentences)"
   ]
  },
  {
   "cell_type": "code",
   "execution_count": 14,
   "metadata": {
    "collapsed": false
   },
   "outputs": [
    {
     "name": "stdout",
     "output_type": "stream",
     "text": [
      "台股上週五因為信心不足，終場下跌100.28點，以8115.89點作收，成交值874.35億元；周線則以下跌282.71點收長黑。\n",
      "展望今(14)日台股，美股在台灣時間上週六清晨以重挫309點坐收，內外交迫，今天恐回測本波起漲點8059點。\n",
      "回顧上週的台股，上週五周線以長黑的下跌282.71點坐收，賣壓蓋頭，主要是內、外資都不挺台股，主力股、法人股的籌碼面混亂。\n",
      "外資因為美國FED即將升息，在期、現聯手偏空操作，內資法人則是因為年底做賬，獲利了結出場。\n",
      " 而在台灣時間上週六(12日)清晨收盤的美股，則因油價接近7年低點，加上併購案暗示經濟不佳，道瓊以重挫309點坐收，再度不利台股的止跌回升。\n",
      "法人預期，若是外、內資繼續賣超台股，今天恐將回測本波起漲點8059點。\n",
      "在此賣壓籠罩的盤勢之下，低P/E、高現金殖利率或產業即將谷底翻升的個股，是現階段可以逢低酌量佈局的投資標的。\n",
      "重大新聞方面，焦點還是中國紫光在台灣與全球的併購。\n",
      "國民黨總統候選人朱立倫日前表態，IC設計產業對台灣經濟非常敏感，若他當選總統，不會允許IC設計業對中國開放投資，因為現在時機尚未成熟。\n",
      "而紫光集團董事長趙偉國昨日對媒體表示，投資力成、矽品與南茂，和軍事、安全沒有關係，紫光也不謀求對企業的控制權，更不存在壟斷問題，他看不出不批准的理由。\n",
      "另一方面，紫光集團下一步將爭取入股美光及英特爾兩大握有記憶體關鍵技術的大廠，合作案已進入緊鑼密鼓階段。\n",
      "值此之際，台廠再度扮演關鍵角色，美光近期將整合旗下華亞科、瑞晶等廠區製造資源，以為與紫光合作預做準備。\n",
      "。\n"
     ]
    }
   ],
   "source": [
    "for sentence in sentences:\n",
    "    print (sentence + u\"。\")"
   ]
  },
  {
   "cell_type": "code",
   "execution_count": 15,
   "metadata": {
    "collapsed": false
   },
   "outputs": [
    {
     "data": {
      "text/plain": [
       "7"
      ]
     },
     "execution_count": 15,
     "metadata": {},
     "output_type": "execute_result"
    }
   ],
   "source": [
    "index_of_keyword(sentences,u\"紫光\")"
   ]
  },
  {
   "cell_type": "code",
   "execution_count": 16,
   "metadata": {
    "collapsed": false
   },
   "outputs": [
    {
     "name": "stdout",
     "output_type": "stream",
     "text": [
      "重大新聞方面，焦點還是中國紫光在台灣與全球的併購。\n"
     ]
    }
   ],
   "source": [
    "print (sentences[index_of_keyword(sentences,u\"紫光\")]+u\"。\")"
   ]
  },
  {
   "cell_type": "code",
   "execution_count": 17,
   "metadata": {
    "collapsed": false
   },
   "outputs": [
    {
     "data": {
      "text/plain": [
       "64"
      ]
     },
     "execution_count": 17,
     "metadata": {},
     "output_type": "execute_result"
    }
   ],
   "source": [
    "len(sentences[0])"
   ]
  },
  {
   "cell_type": "code",
   "execution_count": 18,
   "metadata": {
    "collapsed": true
   },
   "outputs": [],
   "source": [
    "s_index = []\n",
    "for keyword in keywords[:3]:\n",
    "    s_index.append(index_of_keyword(sentences,keyword))\n",
    "\n",
    "s_set = set(s_index)\n",
    "s_index = list(s_set)"
   ]
  },
  {
   "cell_type": "code",
   "execution_count": 19,
   "metadata": {
    "collapsed": false
   },
   "outputs": [],
   "source": [
    "summary = \"\"\n",
    "for i in s_index:\n",
    "    summary += sentences[i]+u\"。\""
   ]
  },
  {
   "cell_type": "code",
   "execution_count": 20,
   "metadata": {
    "collapsed": false
   },
   "outputs": [
    {
     "name": "stdout",
     "output_type": "stream",
     "text": [
      "台股上週五因為信心不足，終場下跌100.28點，以8115.89點作收，成交值874.35億元；周線則以下跌282.71點收長黑。重大新聞方面，焦點還是中國紫光在台灣與全球的併購。\n"
     ]
    }
   ],
   "source": [
    "print (summary)"
   ]
  },
  {
   "cell_type": "code",
   "execution_count": 21,
   "metadata": {
    "collapsed": false
   },
   "outputs": [
    {
     "name": "stdout",
     "output_type": "stream",
     "text": [
      "台股上週五因為信心不足，終場下跌100.28點，以8115.89點作收，成交值874.35億元；周線則以下跌282.71點收長黑。展望今(14)日台股，美股在台灣時間上週六清晨以重挫309點坐收，內外交迫，今天恐回測本波起漲點8059點。\n"
     ]
    }
   ],
   "source": [
    "print (news_summary)"
   ]
  },
  {
   "cell_type": "code",
   "execution_count": 22,
   "metadata": {
    "collapsed": false
   },
   "outputs": [
    {
     "name": "stdout",
     "output_type": "stream",
     "text": [
      "\n",
      "摘要：\n",
      "美股在台灣時間上週六清晨以重挫309點坐收\n",
      "台股上週五因為信心不足\n",
      "主要是內、外資都不挺台股\n",
      "而在台灣時間上週六(12日)清晨收盤的美股\n",
      "焦點還是中國紫光在台灣與全球的併購\n"
     ]
    }
   ],
   "source": [
    "#自己的方法\n",
    "from snownlp import SnowNLP\n",
    "\n",
    "s = SnowNLP(news_text)\n",
    "\n",
    "print (\"\\n摘要：\")\n",
    "for item in s.summary(5):\n",
    "    print (item)"
   ]
  }
 ],
 "metadata": {
  "kernelspec": {
   "display_name": "Python 3",
   "language": "python",
   "name": "python3"
  },
  "language_info": {
   "codemirror_mode": {
    "name": "ipython",
    "version": 3
   },
   "file_extension": ".py",
   "mimetype": "text/x-python",
   "name": "python",
   "nbconvert_exporter": "python",
   "pygments_lexer": "ipython3",
   "version": "3.6.0"
  }
 },
 "nbformat": 4,
 "nbformat_minor": 0
}
